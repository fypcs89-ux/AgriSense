{
 "cells": [
  {
   "cell_type": "markdown",
   "id": "6bdfd636",
   "metadata": {},
   "source": [
    "# Import Libaries"
   ]
  },
  {
   "cell_type": "code",
   "execution_count": 121,
   "id": "7bee9b73",
   "metadata": {},
   "outputs": [],
   "source": [
    "import numpy as np\n",
    "import pandas as pd"
   ]
  },
  {
   "cell_type": "markdown",
   "id": "2822305c",
   "metadata": {},
   "source": [
    "# Importing Data"
   ]
  },
  {
   "cell_type": "code",
   "execution_count": 122,
   "id": "5b6f8884",
   "metadata": {},
   "outputs": [
    {
     "data": {
      "text/html": [
       "<div>\n",
       "<style scoped>\n",
       "    .dataframe tbody tr th:only-of-type {\n",
       "        vertical-align: middle;\n",
       "    }\n",
       "\n",
       "    .dataframe tbody tr th {\n",
       "        vertical-align: top;\n",
       "    }\n",
       "\n",
       "    .dataframe thead th {\n",
       "        text-align: right;\n",
       "    }\n",
       "</style>\n",
       "<table border=\"1\" class=\"dataframe\">\n",
       "  <thead>\n",
       "    <tr style=\"text-align: right;\">\n",
       "      <th></th>\n",
       "      <th>N</th>\n",
       "      <th>P</th>\n",
       "      <th>K</th>\n",
       "      <th>temperature</th>\n",
       "      <th>humidity</th>\n",
       "      <th>ph</th>\n",
       "      <th>rainfall</th>\n",
       "      <th>label</th>\n",
       "    </tr>\n",
       "  </thead>\n",
       "  <tbody>\n",
       "    <tr>\n",
       "      <th>0</th>\n",
       "      <td>14</td>\n",
       "      <td>140</td>\n",
       "      <td>197</td>\n",
       "      <td>23.352251</td>\n",
       "      <td>90.900547</td>\n",
       "      <td>6.071255</td>\n",
       "      <td>113.038138</td>\n",
       "      <td>apple</td>\n",
       "    </tr>\n",
       "    <tr>\n",
       "      <th>1</th>\n",
       "      <td>67</td>\n",
       "      <td>35</td>\n",
       "      <td>22</td>\n",
       "      <td>23.305468</td>\n",
       "      <td>63.246480</td>\n",
       "      <td>6.385684</td>\n",
       "      <td>108.760300</td>\n",
       "      <td>maize</td>\n",
       "    </tr>\n",
       "    <tr>\n",
       "      <th>2</th>\n",
       "      <td>54</td>\n",
       "      <td>61</td>\n",
       "      <td>77</td>\n",
       "      <td>18.811981</td>\n",
       "      <td>15.216182</td>\n",
       "      <td>6.206582</td>\n",
       "      <td>77.542942</td>\n",
       "      <td>chickpea</td>\n",
       "    </tr>\n",
       "    <tr>\n",
       "      <th>3</th>\n",
       "      <td>86</td>\n",
       "      <td>26</td>\n",
       "      <td>27</td>\n",
       "      <td>27.131404</td>\n",
       "      <td>52.893683</td>\n",
       "      <td>6.081173</td>\n",
       "      <td>192.428038</td>\n",
       "      <td>coffee</td>\n",
       "    </tr>\n",
       "    <tr>\n",
       "      <th>4</th>\n",
       "      <td>1</td>\n",
       "      <td>135</td>\n",
       "      <td>203</td>\n",
       "      <td>22.778565</td>\n",
       "      <td>92.701240</td>\n",
       "      <td>5.624203</td>\n",
       "      <td>113.775922</td>\n",
       "      <td>apple</td>\n",
       "    </tr>\n",
       "  </tbody>\n",
       "</table>\n",
       "</div>"
      ],
      "text/plain": [
       "    N    P    K  temperature   humidity        ph    rainfall     label\n",
       "0  14  140  197    23.352251  90.900547  6.071255  113.038138     apple\n",
       "1  67   35   22    23.305468  63.246480  6.385684  108.760300     maize\n",
       "2  54   61   77    18.811981  15.216182  6.206582   77.542942  chickpea\n",
       "3  86   26   27    27.131404  52.893683  6.081173  192.428038    coffee\n",
       "4   1  135  203    22.778565  92.701240  5.624203  113.775922     apple"
      ]
     },
     "execution_count": 122,
     "metadata": {},
     "output_type": "execute_result"
    }
   ],
   "source": [
    "crop = pd.read_csv(\"Crop Recommendation FYP.csv\")\n",
    "crop.head()"
   ]
  },
  {
   "cell_type": "code",
   "execution_count": 123,
   "id": "3ca70c00",
   "metadata": {},
   "outputs": [
    {
     "data": {
      "text/plain": [
       "(2600, 8)"
      ]
     },
     "execution_count": 123,
     "metadata": {},
     "output_type": "execute_result"
    }
   ],
   "source": [
    "crop.shape"
   ]
  },
  {
   "cell_type": "code",
   "execution_count": 124,
   "id": "e2ae9b60",
   "metadata": {},
   "outputs": [
    {
     "name": "stdout",
     "output_type": "stream",
     "text": [
      "<class 'pandas.core.frame.DataFrame'>\n",
      "RangeIndex: 2600 entries, 0 to 2599\n",
      "Data columns (total 8 columns):\n",
      " #   Column       Non-Null Count  Dtype  \n",
      "---  ------       --------------  -----  \n",
      " 0   N            2600 non-null   int64  \n",
      " 1   P            2600 non-null   int64  \n",
      " 2   K            2600 non-null   int64  \n",
      " 3   temperature  2600 non-null   float64\n",
      " 4   humidity     2600 non-null   float64\n",
      " 5   ph           2600 non-null   float64\n",
      " 6   rainfall     2600 non-null   float64\n",
      " 7   label        2600 non-null   object \n",
      "dtypes: float64(4), int64(3), object(1)\n",
      "memory usage: 162.6+ KB\n"
     ]
    }
   ],
   "source": [
    "crop.info()"
   ]
  },
  {
   "cell_type": "code",
   "execution_count": 125,
   "id": "9efad4c4",
   "metadata": {},
   "outputs": [
    {
     "data": {
      "text/plain": [
       "N              0\n",
       "P              0\n",
       "K              0\n",
       "temperature    0\n",
       "humidity       0\n",
       "ph             0\n",
       "rainfall       0\n",
       "label          0\n",
       "dtype: int64"
      ]
     },
     "execution_count": 125,
     "metadata": {},
     "output_type": "execute_result"
    }
   ],
   "source": [
    "crop.isnull().sum()"
   ]
  },
  {
   "cell_type": "code",
   "execution_count": 126,
   "id": "1f7bf8c5",
   "metadata": {},
   "outputs": [
    {
     "data": {
      "text/plain": [
       "0"
      ]
     },
     "execution_count": 126,
     "metadata": {},
     "output_type": "execute_result"
    }
   ],
   "source": [
    "crop.duplicated().sum()"
   ]
  },
  {
   "cell_type": "code",
   "execution_count": 127,
   "id": "3d5b7413",
   "metadata": {},
   "outputs": [
    {
     "data": {
      "text/html": [
       "<div>\n",
       "<style scoped>\n",
       "    .dataframe tbody tr th:only-of-type {\n",
       "        vertical-align: middle;\n",
       "    }\n",
       "\n",
       "    .dataframe tbody tr th {\n",
       "        vertical-align: top;\n",
       "    }\n",
       "\n",
       "    .dataframe thead th {\n",
       "        text-align: right;\n",
       "    }\n",
       "</style>\n",
       "<table border=\"1\" class=\"dataframe\">\n",
       "  <thead>\n",
       "    <tr style=\"text-align: right;\">\n",
       "      <th></th>\n",
       "      <th>N</th>\n",
       "      <th>P</th>\n",
       "      <th>K</th>\n",
       "      <th>temperature</th>\n",
       "      <th>humidity</th>\n",
       "      <th>ph</th>\n",
       "      <th>rainfall</th>\n",
       "    </tr>\n",
       "  </thead>\n",
       "  <tbody>\n",
       "    <tr>\n",
       "      <th>count</th>\n",
       "      <td>2600.000000</td>\n",
       "      <td>2600.000000</td>\n",
       "      <td>2600.000000</td>\n",
       "      <td>2600.000000</td>\n",
       "      <td>2600.000000</td>\n",
       "      <td>2600.000000</td>\n",
       "      <td>2600.000000</td>\n",
       "    </tr>\n",
       "    <tr>\n",
       "      <th>mean</th>\n",
       "      <td>46.595385</td>\n",
       "      <td>55.081923</td>\n",
       "      <td>48.537692</td>\n",
       "      <td>25.119436</td>\n",
       "      <td>67.348084</td>\n",
       "      <td>6.446438</td>\n",
       "      <td>104.650782</td>\n",
       "    </tr>\n",
       "    <tr>\n",
       "      <th>std</th>\n",
       "      <td>35.662770</td>\n",
       "      <td>32.668467</td>\n",
       "      <td>50.703251</td>\n",
       "      <td>5.197857</td>\n",
       "      <td>25.572621</td>\n",
       "      <td>0.800625</td>\n",
       "      <td>52.250478</td>\n",
       "    </tr>\n",
       "    <tr>\n",
       "      <th>min</th>\n",
       "      <td>0.000000</td>\n",
       "      <td>5.000000</td>\n",
       "      <td>5.000000</td>\n",
       "      <td>8.825675</td>\n",
       "      <td>14.258040</td>\n",
       "      <td>3.504752</td>\n",
       "      <td>20.211267</td>\n",
       "    </tr>\n",
       "    <tr>\n",
       "      <th>25%</th>\n",
       "      <td>19.000000</td>\n",
       "      <td>29.000000</td>\n",
       "      <td>20.000000</td>\n",
       "      <td>21.593430</td>\n",
       "      <td>52.100108</td>\n",
       "      <td>5.902033</td>\n",
       "      <td>67.590156</td>\n",
       "    </tr>\n",
       "    <tr>\n",
       "      <th>50%</th>\n",
       "      <td>34.000000</td>\n",
       "      <td>55.000000</td>\n",
       "      <td>31.000000</td>\n",
       "      <td>25.063371</td>\n",
       "      <td>78.036830</td>\n",
       "      <td>6.397008</td>\n",
       "      <td>97.779524</td>\n",
       "    </tr>\n",
       "    <tr>\n",
       "      <th>75%</th>\n",
       "      <td>78.000000</td>\n",
       "      <td>70.000000</td>\n",
       "      <td>50.000000</td>\n",
       "      <td>28.286099</td>\n",
       "      <td>89.719442</td>\n",
       "      <td>6.924721</td>\n",
       "      <td>124.602815</td>\n",
       "    </tr>\n",
       "    <tr>\n",
       "      <th>max</th>\n",
       "      <td>140.000000</td>\n",
       "      <td>145.000000</td>\n",
       "      <td>205.000000</td>\n",
       "      <td>43.675493</td>\n",
       "      <td>99.981876</td>\n",
       "      <td>9.935091</td>\n",
       "      <td>298.560117</td>\n",
       "    </tr>\n",
       "  </tbody>\n",
       "</table>\n",
       "</div>"
      ],
      "text/plain": [
       "                 N            P            K  temperature     humidity  \\\n",
       "count  2600.000000  2600.000000  2600.000000  2600.000000  2600.000000   \n",
       "mean     46.595385    55.081923    48.537692    25.119436    67.348084   \n",
       "std      35.662770    32.668467    50.703251     5.197857    25.572621   \n",
       "min       0.000000     5.000000     5.000000     8.825675    14.258040   \n",
       "25%      19.000000    29.000000    20.000000    21.593430    52.100108   \n",
       "50%      34.000000    55.000000    31.000000    25.063371    78.036830   \n",
       "75%      78.000000    70.000000    50.000000    28.286099    89.719442   \n",
       "max     140.000000   145.000000   205.000000    43.675493    99.981876   \n",
       "\n",
       "                ph     rainfall  \n",
       "count  2600.000000  2600.000000  \n",
       "mean      6.446438   104.650782  \n",
       "std       0.800625    52.250478  \n",
       "min       3.504752    20.211267  \n",
       "25%       5.902033    67.590156  \n",
       "50%       6.397008    97.779524  \n",
       "75%       6.924721   124.602815  \n",
       "max       9.935091   298.560117  "
      ]
     },
     "execution_count": 127,
     "metadata": {},
     "output_type": "execute_result"
    }
   ],
   "source": [
    "crop.describe()"
   ]
  },
  {
   "cell_type": "code",
   "execution_count": 128,
   "id": "1056bfba",
   "metadata": {},
   "outputs": [
    {
     "data": {
      "text/plain": [
       "label\n",
       "apple          100\n",
       "maize          100\n",
       "pulses         100\n",
       "mungbean       100\n",
       "lentil         100\n",
       "kidneybeans    100\n",
       "millets        100\n",
       "banana         100\n",
       "wheat          100\n",
       "coconut        100\n",
       "grapes         100\n",
       "mothbeans      100\n",
       "mango          100\n",
       "muskmelon      100\n",
       "papaya         100\n",
       "rice           100\n",
       "watermelon     100\n",
       "sugarcane      100\n",
       "jute           100\n",
       "blackgram      100\n",
       "pigeonpeas     100\n",
       "orange         100\n",
       "cotton         100\n",
       "coffee         100\n",
       "chickpea       100\n",
       "pomegranate    100\n",
       "Name: count, dtype: int64"
      ]
     },
     "execution_count": 128,
     "metadata": {},
     "output_type": "execute_result"
    }
   ],
   "source": [
    "crop['label'].value_counts()"
   ]
  },
  {
   "cell_type": "code",
   "execution_count": 129,
   "id": "2bfe044d-c9ca-47e7-a1d3-7568fc38e959",
   "metadata": {},
   "outputs": [
    {
     "data": {
      "text/plain": [
       "array(['apple', 'maize', 'chickpea', 'coffee', 'cotton', 'orange',\n",
       "       'pigeonpeas', 'blackgram', 'jute', 'sugarcane', 'watermelon',\n",
       "       'rice', 'papaya', 'muskmelon', 'mango', 'mothbeans', 'grapes',\n",
       "       'coconut', 'wheat', 'banana', 'millets', 'kidneybeans', 'lentil',\n",
       "       'mungbean', 'pulses', 'pomegranate'], dtype=object)"
      ]
     },
     "execution_count": 129,
     "metadata": {},
     "output_type": "execute_result"
    }
   ],
   "source": [
    "crop['label'].unique()"
   ]
  },
  {
   "cell_type": "markdown",
   "id": "fc512813-8671-485a-9380-ca93280fc7e4",
   "metadata": {},
   "source": [
    "# Encoding"
   ]
  },
  {
   "cell_type": "code",
   "execution_count": 130,
   "id": "8c35d395",
   "metadata": {},
   "outputs": [],
   "source": [
    "crop_dict = {\n",
    "    'rice': 1,\n",
    "    'maize': 2,\n",
    "    'chickpea': 3,\n",
    "    'kidneybeans': 4,\n",
    "    'pigeonpeas': 5,\n",
    "    'mothbeans': 6,\n",
    "    'mungbean': 7,\n",
    "    'blackgram': 8,\n",
    "    'lentil': 9,\n",
    "    'pomegranate': 10,\n",
    "    'banana': 11,\n",
    "    'mango': 12,\n",
    "    'grapes': 13,\n",
    "    'watermelon': 14,\n",
    "    'muskmelon': 15,\n",
    "    'apple': 16,\n",
    "    'orange': 17,\n",
    "    'papaya': 18,\n",
    "    'coconut': 19,\n",
    "    'cotton': 20,\n",
    "    'jute': 21,\n",
    "    'coffee': 22,\n",
    "    'wheat' : 23,\n",
    "    'millets' : 24,\n",
    "    'pulses' : 25,\n",
    "    'sugarcane' : 26\n",
    "    \n",
    "}\n",
    "crop['crop_num']=  crop['label'].map(crop_dict)"
   ]
  },
  {
   "cell_type": "code",
   "execution_count": 131,
   "id": "b1a53f7f",
   "metadata": {},
   "outputs": [
    {
     "data": {
      "text/html": [
       "<div>\n",
       "<style scoped>\n",
       "    .dataframe tbody tr th:only-of-type {\n",
       "        vertical-align: middle;\n",
       "    }\n",
       "\n",
       "    .dataframe tbody tr th {\n",
       "        vertical-align: top;\n",
       "    }\n",
       "\n",
       "    .dataframe thead th {\n",
       "        text-align: right;\n",
       "    }\n",
       "</style>\n",
       "<table border=\"1\" class=\"dataframe\">\n",
       "  <thead>\n",
       "    <tr style=\"text-align: right;\">\n",
       "      <th></th>\n",
       "      <th>N</th>\n",
       "      <th>P</th>\n",
       "      <th>K</th>\n",
       "      <th>temperature</th>\n",
       "      <th>humidity</th>\n",
       "      <th>ph</th>\n",
       "      <th>rainfall</th>\n",
       "      <th>label</th>\n",
       "      <th>crop_num</th>\n",
       "    </tr>\n",
       "  </thead>\n",
       "  <tbody>\n",
       "    <tr>\n",
       "      <th>0</th>\n",
       "      <td>14</td>\n",
       "      <td>140</td>\n",
       "      <td>197</td>\n",
       "      <td>23.352251</td>\n",
       "      <td>90.900547</td>\n",
       "      <td>6.071255</td>\n",
       "      <td>113.038138</td>\n",
       "      <td>apple</td>\n",
       "      <td>16</td>\n",
       "    </tr>\n",
       "    <tr>\n",
       "      <th>1</th>\n",
       "      <td>67</td>\n",
       "      <td>35</td>\n",
       "      <td>22</td>\n",
       "      <td>23.305468</td>\n",
       "      <td>63.246480</td>\n",
       "      <td>6.385684</td>\n",
       "      <td>108.760300</td>\n",
       "      <td>maize</td>\n",
       "      <td>2</td>\n",
       "    </tr>\n",
       "    <tr>\n",
       "      <th>2</th>\n",
       "      <td>54</td>\n",
       "      <td>61</td>\n",
       "      <td>77</td>\n",
       "      <td>18.811981</td>\n",
       "      <td>15.216182</td>\n",
       "      <td>6.206582</td>\n",
       "      <td>77.542942</td>\n",
       "      <td>chickpea</td>\n",
       "      <td>3</td>\n",
       "    </tr>\n",
       "    <tr>\n",
       "      <th>3</th>\n",
       "      <td>86</td>\n",
       "      <td>26</td>\n",
       "      <td>27</td>\n",
       "      <td>27.131404</td>\n",
       "      <td>52.893683</td>\n",
       "      <td>6.081173</td>\n",
       "      <td>192.428038</td>\n",
       "      <td>coffee</td>\n",
       "      <td>22</td>\n",
       "    </tr>\n",
       "    <tr>\n",
       "      <th>4</th>\n",
       "      <td>1</td>\n",
       "      <td>135</td>\n",
       "      <td>203</td>\n",
       "      <td>22.778565</td>\n",
       "      <td>92.701240</td>\n",
       "      <td>5.624203</td>\n",
       "      <td>113.775922</td>\n",
       "      <td>apple</td>\n",
       "      <td>16</td>\n",
       "    </tr>\n",
       "    <tr>\n",
       "      <th>...</th>\n",
       "      <td>...</td>\n",
       "      <td>...</td>\n",
       "      <td>...</td>\n",
       "      <td>...</td>\n",
       "      <td>...</td>\n",
       "      <td>...</td>\n",
       "      <td>...</td>\n",
       "      <td>...</td>\n",
       "      <td>...</td>\n",
       "    </tr>\n",
       "    <tr>\n",
       "      <th>2595</th>\n",
       "      <td>10</td>\n",
       "      <td>5</td>\n",
       "      <td>5</td>\n",
       "      <td>21.213070</td>\n",
       "      <td>91.353492</td>\n",
       "      <td>7.817846</td>\n",
       "      <td>112.983436</td>\n",
       "      <td>orange</td>\n",
       "      <td>17</td>\n",
       "    </tr>\n",
       "    <tr>\n",
       "      <th>2596</th>\n",
       "      <td>108</td>\n",
       "      <td>94</td>\n",
       "      <td>47</td>\n",
       "      <td>27.359116</td>\n",
       "      <td>84.546250</td>\n",
       "      <td>6.387431</td>\n",
       "      <td>90.812505</td>\n",
       "      <td>banana</td>\n",
       "      <td>11</td>\n",
       "    </tr>\n",
       "    <tr>\n",
       "      <th>2597</th>\n",
       "      <td>11</td>\n",
       "      <td>36</td>\n",
       "      <td>31</td>\n",
       "      <td>27.920633</td>\n",
       "      <td>51.779659</td>\n",
       "      <td>6.475449</td>\n",
       "      <td>100.258567</td>\n",
       "      <td>mango</td>\n",
       "      <td>12</td>\n",
       "    </tr>\n",
       "    <tr>\n",
       "      <th>2598</th>\n",
       "      <td>11</td>\n",
       "      <td>124</td>\n",
       "      <td>204</td>\n",
       "      <td>13.429886</td>\n",
       "      <td>80.066340</td>\n",
       "      <td>6.361141</td>\n",
       "      <td>71.400430</td>\n",
       "      <td>grapes</td>\n",
       "      <td>13</td>\n",
       "    </tr>\n",
       "    <tr>\n",
       "      <th>2599</th>\n",
       "      <td>32</td>\n",
       "      <td>78</td>\n",
       "      <td>22</td>\n",
       "      <td>23.970814</td>\n",
       "      <td>62.355576</td>\n",
       "      <td>7.007038</td>\n",
       "      <td>53.409060</td>\n",
       "      <td>lentil</td>\n",
       "      <td>9</td>\n",
       "    </tr>\n",
       "  </tbody>\n",
       "</table>\n",
       "<p>2600 rows × 9 columns</p>\n",
       "</div>"
      ],
      "text/plain": [
       "        N    P    K  temperature   humidity        ph    rainfall     label  \\\n",
       "0      14  140  197    23.352251  90.900547  6.071255  113.038138     apple   \n",
       "1      67   35   22    23.305468  63.246480  6.385684  108.760300     maize   \n",
       "2      54   61   77    18.811981  15.216182  6.206582   77.542942  chickpea   \n",
       "3      86   26   27    27.131404  52.893683  6.081173  192.428038    coffee   \n",
       "4       1  135  203    22.778565  92.701240  5.624203  113.775922     apple   \n",
       "...   ...  ...  ...          ...        ...       ...         ...       ...   \n",
       "2595   10    5    5    21.213070  91.353492  7.817846  112.983436    orange   \n",
       "2596  108   94   47    27.359116  84.546250  6.387431   90.812505    banana   \n",
       "2597   11   36   31    27.920633  51.779659  6.475449  100.258567     mango   \n",
       "2598   11  124  204    13.429886  80.066340  6.361141   71.400430    grapes   \n",
       "2599   32   78   22    23.970814  62.355576  7.007038   53.409060    lentil   \n",
       "\n",
       "      crop_num  \n",
       "0           16  \n",
       "1            2  \n",
       "2            3  \n",
       "3           22  \n",
       "4           16  \n",
       "...        ...  \n",
       "2595        17  \n",
       "2596        11  \n",
       "2597        12  \n",
       "2598        13  \n",
       "2599         9  \n",
       "\n",
       "[2600 rows x 9 columns]"
      ]
     },
     "execution_count": 131,
     "metadata": {},
     "output_type": "execute_result"
    }
   ],
   "source": [
    "crop"
   ]
  },
  {
   "cell_type": "code",
   "execution_count": 132,
   "id": "dff5caca",
   "metadata": {},
   "outputs": [
    {
     "data": {
      "text/html": [
       "<div>\n",
       "<style scoped>\n",
       "    .dataframe tbody tr th:only-of-type {\n",
       "        vertical-align: middle;\n",
       "    }\n",
       "\n",
       "    .dataframe tbody tr th {\n",
       "        vertical-align: top;\n",
       "    }\n",
       "\n",
       "    .dataframe thead th {\n",
       "        text-align: right;\n",
       "    }\n",
       "</style>\n",
       "<table border=\"1\" class=\"dataframe\">\n",
       "  <thead>\n",
       "    <tr style=\"text-align: right;\">\n",
       "      <th></th>\n",
       "      <th>N</th>\n",
       "      <th>P</th>\n",
       "      <th>K</th>\n",
       "      <th>temperature</th>\n",
       "      <th>humidity</th>\n",
       "      <th>ph</th>\n",
       "      <th>rainfall</th>\n",
       "      <th>crop_num</th>\n",
       "    </tr>\n",
       "  </thead>\n",
       "  <tbody>\n",
       "    <tr>\n",
       "      <th>0</th>\n",
       "      <td>14</td>\n",
       "      <td>140</td>\n",
       "      <td>197</td>\n",
       "      <td>23.352251</td>\n",
       "      <td>90.900547</td>\n",
       "      <td>6.071255</td>\n",
       "      <td>113.038138</td>\n",
       "      <td>16</td>\n",
       "    </tr>\n",
       "    <tr>\n",
       "      <th>1</th>\n",
       "      <td>67</td>\n",
       "      <td>35</td>\n",
       "      <td>22</td>\n",
       "      <td>23.305468</td>\n",
       "      <td>63.246480</td>\n",
       "      <td>6.385684</td>\n",
       "      <td>108.760300</td>\n",
       "      <td>2</td>\n",
       "    </tr>\n",
       "    <tr>\n",
       "      <th>2</th>\n",
       "      <td>54</td>\n",
       "      <td>61</td>\n",
       "      <td>77</td>\n",
       "      <td>18.811981</td>\n",
       "      <td>15.216182</td>\n",
       "      <td>6.206582</td>\n",
       "      <td>77.542942</td>\n",
       "      <td>3</td>\n",
       "    </tr>\n",
       "    <tr>\n",
       "      <th>3</th>\n",
       "      <td>86</td>\n",
       "      <td>26</td>\n",
       "      <td>27</td>\n",
       "      <td>27.131404</td>\n",
       "      <td>52.893683</td>\n",
       "      <td>6.081173</td>\n",
       "      <td>192.428038</td>\n",
       "      <td>22</td>\n",
       "    </tr>\n",
       "    <tr>\n",
       "      <th>4</th>\n",
       "      <td>1</td>\n",
       "      <td>135</td>\n",
       "      <td>203</td>\n",
       "      <td>22.778565</td>\n",
       "      <td>92.701240</td>\n",
       "      <td>5.624203</td>\n",
       "      <td>113.775922</td>\n",
       "      <td>16</td>\n",
       "    </tr>\n",
       "  </tbody>\n",
       "</table>\n",
       "</div>"
      ],
      "text/plain": [
       "    N    P    K  temperature   humidity        ph    rainfall  crop_num\n",
       "0  14  140  197    23.352251  90.900547  6.071255  113.038138        16\n",
       "1  67   35   22    23.305468  63.246480  6.385684  108.760300         2\n",
       "2  54   61   77    18.811981  15.216182  6.206582   77.542942         3\n",
       "3  86   26   27    27.131404  52.893683  6.081173  192.428038        22\n",
       "4   1  135  203    22.778565  92.701240  5.624203  113.775922        16"
      ]
     },
     "execution_count": 132,
     "metadata": {},
     "output_type": "execute_result"
    }
   ],
   "source": [
    "crop.drop(['label'],axis=1,inplace=True)\n",
    "crop.head()"
   ]
  },
  {
   "cell_type": "markdown",
   "id": "a5494675",
   "metadata": {},
   "source": [
    "# Train Test Split"
   ]
  },
  {
   "cell_type": "code",
   "execution_count": 133,
   "id": "5a049f55",
   "metadata": {},
   "outputs": [],
   "source": [
    "X = crop.drop(['crop_num'],axis=1)\n",
    "y = crop['crop_num']"
   ]
  },
  {
   "cell_type": "code",
   "execution_count": 134,
   "id": "9d223a69",
   "metadata": {},
   "outputs": [
    {
     "data": {
      "text/html": [
       "<div>\n",
       "<style scoped>\n",
       "    .dataframe tbody tr th:only-of-type {\n",
       "        vertical-align: middle;\n",
       "    }\n",
       "\n",
       "    .dataframe tbody tr th {\n",
       "        vertical-align: top;\n",
       "    }\n",
       "\n",
       "    .dataframe thead th {\n",
       "        text-align: right;\n",
       "    }\n",
       "</style>\n",
       "<table border=\"1\" class=\"dataframe\">\n",
       "  <thead>\n",
       "    <tr style=\"text-align: right;\">\n",
       "      <th></th>\n",
       "      <th>N</th>\n",
       "      <th>P</th>\n",
       "      <th>K</th>\n",
       "      <th>temperature</th>\n",
       "      <th>humidity</th>\n",
       "      <th>ph</th>\n",
       "      <th>rainfall</th>\n",
       "    </tr>\n",
       "  </thead>\n",
       "  <tbody>\n",
       "    <tr>\n",
       "      <th>0</th>\n",
       "      <td>14</td>\n",
       "      <td>140</td>\n",
       "      <td>197</td>\n",
       "      <td>23.352251</td>\n",
       "      <td>90.900547</td>\n",
       "      <td>6.071255</td>\n",
       "      <td>113.038138</td>\n",
       "    </tr>\n",
       "    <tr>\n",
       "      <th>1</th>\n",
       "      <td>67</td>\n",
       "      <td>35</td>\n",
       "      <td>22</td>\n",
       "      <td>23.305468</td>\n",
       "      <td>63.246480</td>\n",
       "      <td>6.385684</td>\n",
       "      <td>108.760300</td>\n",
       "    </tr>\n",
       "    <tr>\n",
       "      <th>2</th>\n",
       "      <td>54</td>\n",
       "      <td>61</td>\n",
       "      <td>77</td>\n",
       "      <td>18.811981</td>\n",
       "      <td>15.216182</td>\n",
       "      <td>6.206582</td>\n",
       "      <td>77.542942</td>\n",
       "    </tr>\n",
       "    <tr>\n",
       "      <th>3</th>\n",
       "      <td>86</td>\n",
       "      <td>26</td>\n",
       "      <td>27</td>\n",
       "      <td>27.131404</td>\n",
       "      <td>52.893683</td>\n",
       "      <td>6.081173</td>\n",
       "      <td>192.428038</td>\n",
       "    </tr>\n",
       "    <tr>\n",
       "      <th>4</th>\n",
       "      <td>1</td>\n",
       "      <td>135</td>\n",
       "      <td>203</td>\n",
       "      <td>22.778565</td>\n",
       "      <td>92.701240</td>\n",
       "      <td>5.624203</td>\n",
       "      <td>113.775922</td>\n",
       "    </tr>\n",
       "    <tr>\n",
       "      <th>...</th>\n",
       "      <td>...</td>\n",
       "      <td>...</td>\n",
       "      <td>...</td>\n",
       "      <td>...</td>\n",
       "      <td>...</td>\n",
       "      <td>...</td>\n",
       "      <td>...</td>\n",
       "    </tr>\n",
       "    <tr>\n",
       "      <th>2595</th>\n",
       "      <td>10</td>\n",
       "      <td>5</td>\n",
       "      <td>5</td>\n",
       "      <td>21.213070</td>\n",
       "      <td>91.353492</td>\n",
       "      <td>7.817846</td>\n",
       "      <td>112.983436</td>\n",
       "    </tr>\n",
       "    <tr>\n",
       "      <th>2596</th>\n",
       "      <td>108</td>\n",
       "      <td>94</td>\n",
       "      <td>47</td>\n",
       "      <td>27.359116</td>\n",
       "      <td>84.546250</td>\n",
       "      <td>6.387431</td>\n",
       "      <td>90.812505</td>\n",
       "    </tr>\n",
       "    <tr>\n",
       "      <th>2597</th>\n",
       "      <td>11</td>\n",
       "      <td>36</td>\n",
       "      <td>31</td>\n",
       "      <td>27.920633</td>\n",
       "      <td>51.779659</td>\n",
       "      <td>6.475449</td>\n",
       "      <td>100.258567</td>\n",
       "    </tr>\n",
       "    <tr>\n",
       "      <th>2598</th>\n",
       "      <td>11</td>\n",
       "      <td>124</td>\n",
       "      <td>204</td>\n",
       "      <td>13.429886</td>\n",
       "      <td>80.066340</td>\n",
       "      <td>6.361141</td>\n",
       "      <td>71.400430</td>\n",
       "    </tr>\n",
       "    <tr>\n",
       "      <th>2599</th>\n",
       "      <td>32</td>\n",
       "      <td>78</td>\n",
       "      <td>22</td>\n",
       "      <td>23.970814</td>\n",
       "      <td>62.355576</td>\n",
       "      <td>7.007038</td>\n",
       "      <td>53.409060</td>\n",
       "    </tr>\n",
       "  </tbody>\n",
       "</table>\n",
       "<p>2600 rows × 7 columns</p>\n",
       "</div>"
      ],
      "text/plain": [
       "        N    P    K  temperature   humidity        ph    rainfall\n",
       "0      14  140  197    23.352251  90.900547  6.071255  113.038138\n",
       "1      67   35   22    23.305468  63.246480  6.385684  108.760300\n",
       "2      54   61   77    18.811981  15.216182  6.206582   77.542942\n",
       "3      86   26   27    27.131404  52.893683  6.081173  192.428038\n",
       "4       1  135  203    22.778565  92.701240  5.624203  113.775922\n",
       "...   ...  ...  ...          ...        ...       ...         ...\n",
       "2595   10    5    5    21.213070  91.353492  7.817846  112.983436\n",
       "2596  108   94   47    27.359116  84.546250  6.387431   90.812505\n",
       "2597   11   36   31    27.920633  51.779659  6.475449  100.258567\n",
       "2598   11  124  204    13.429886  80.066340  6.361141   71.400430\n",
       "2599   32   78   22    23.970814  62.355576  7.007038   53.409060\n",
       "\n",
       "[2600 rows x 7 columns]"
      ]
     },
     "execution_count": 134,
     "metadata": {},
     "output_type": "execute_result"
    }
   ],
   "source": [
    "X"
   ]
  },
  {
   "cell_type": "code",
   "execution_count": 135,
   "id": "d2601fcf",
   "metadata": {},
   "outputs": [
    {
     "data": {
      "text/plain": [
       "0       16\n",
       "1        2\n",
       "2        3\n",
       "3       22\n",
       "4       16\n",
       "        ..\n",
       "2595    17\n",
       "2596    11\n",
       "2597    12\n",
       "2598    13\n",
       "2599     9\n",
       "Name: crop_num, Length: 2600, dtype: int64"
      ]
     },
     "execution_count": 135,
     "metadata": {},
     "output_type": "execute_result"
    }
   ],
   "source": [
    "y"
   ]
  },
  {
   "cell_type": "code",
   "execution_count": 136,
   "id": "c561ea31",
   "metadata": {},
   "outputs": [
    {
     "data": {
      "text/plain": [
       "(2600,)"
      ]
     },
     "execution_count": 136,
     "metadata": {},
     "output_type": "execute_result"
    }
   ],
   "source": [
    "y.shape"
   ]
  },
  {
   "cell_type": "code",
   "execution_count": 137,
   "id": "caba8efb",
   "metadata": {},
   "outputs": [],
   "source": [
    "from sklearn.model_selection import train_test_split"
   ]
  },
  {
   "cell_type": "code",
   "execution_count": 138,
   "id": "6774a9dd",
   "metadata": {},
   "outputs": [],
   "source": [
    "X_train, X_test, y_train, y_test = train_test_split(X, y, test_size=0.2, random_state=42)"
   ]
  },
  {
   "cell_type": "code",
   "execution_count": 139,
   "id": "41b6bcbb",
   "metadata": {},
   "outputs": [
    {
     "data": {
      "text/html": [
       "<div>\n",
       "<style scoped>\n",
       "    .dataframe tbody tr th:only-of-type {\n",
       "        vertical-align: middle;\n",
       "    }\n",
       "\n",
       "    .dataframe tbody tr th {\n",
       "        vertical-align: top;\n",
       "    }\n",
       "\n",
       "    .dataframe thead th {\n",
       "        text-align: right;\n",
       "    }\n",
       "</style>\n",
       "<table border=\"1\" class=\"dataframe\">\n",
       "  <thead>\n",
       "    <tr style=\"text-align: right;\">\n",
       "      <th></th>\n",
       "      <th>N</th>\n",
       "      <th>P</th>\n",
       "      <th>K</th>\n",
       "      <th>temperature</th>\n",
       "      <th>humidity</th>\n",
       "      <th>ph</th>\n",
       "      <th>rainfall</th>\n",
       "    </tr>\n",
       "  </thead>\n",
       "  <tbody>\n",
       "    <tr>\n",
       "      <th>582</th>\n",
       "      <td>34</td>\n",
       "      <td>133</td>\n",
       "      <td>202</td>\n",
       "      <td>15.314135</td>\n",
       "      <td>80.097114</td>\n",
       "      <td>5.804799</td>\n",
       "      <td>74.821447</td>\n",
       "    </tr>\n",
       "    <tr>\n",
       "      <th>48</th>\n",
       "      <td>118</td>\n",
       "      <td>50</td>\n",
       "      <td>19</td>\n",
       "      <td>22.956041</td>\n",
       "      <td>82.337337</td>\n",
       "      <td>6.360812</td>\n",
       "      <td>66.483393</td>\n",
       "    </tr>\n",
       "    <tr>\n",
       "      <th>1772</th>\n",
       "      <td>32</td>\n",
       "      <td>129</td>\n",
       "      <td>201</td>\n",
       "      <td>16.362519</td>\n",
       "      <td>83.004716</td>\n",
       "      <td>6.487546</td>\n",
       "      <td>71.556655</td>\n",
       "    </tr>\n",
       "    <tr>\n",
       "      <th>964</th>\n",
       "      <td>97</td>\n",
       "      <td>8</td>\n",
       "      <td>52</td>\n",
       "      <td>24.910323</td>\n",
       "      <td>86.971900</td>\n",
       "      <td>6.237862</td>\n",
       "      <td>49.485757</td>\n",
       "    </tr>\n",
       "    <tr>\n",
       "      <th>2213</th>\n",
       "      <td>80</td>\n",
       "      <td>30</td>\n",
       "      <td>25</td>\n",
       "      <td>26.240922</td>\n",
       "      <td>65.643814</td>\n",
       "      <td>7.487267</td>\n",
       "      <td>148.377120</td>\n",
       "    </tr>\n",
       "    <tr>\n",
       "      <th>...</th>\n",
       "      <td>...</td>\n",
       "      <td>...</td>\n",
       "      <td>...</td>\n",
       "      <td>...</td>\n",
       "      <td>...</td>\n",
       "      <td>...</td>\n",
       "      <td>...</td>\n",
       "    </tr>\n",
       "    <tr>\n",
       "      <th>1638</th>\n",
       "      <td>34</td>\n",
       "      <td>76</td>\n",
       "      <td>80</td>\n",
       "      <td>20.656918</td>\n",
       "      <td>15.845726</td>\n",
       "      <td>7.985417</td>\n",
       "      <td>65.238111</td>\n",
       "    </tr>\n",
       "    <tr>\n",
       "      <th>1095</th>\n",
       "      <td>67</td>\n",
       "      <td>55</td>\n",
       "      <td>44</td>\n",
       "      <td>26.284017</td>\n",
       "      <td>75.146402</td>\n",
       "      <td>7.251847</td>\n",
       "      <td>182.268545</td>\n",
       "    </tr>\n",
       "    <tr>\n",
       "      <th>1130</th>\n",
       "      <td>114</td>\n",
       "      <td>40</td>\n",
       "      <td>17</td>\n",
       "      <td>24.326305</td>\n",
       "      <td>80.134564</td>\n",
       "      <td>6.363406</td>\n",
       "      <td>69.450721</td>\n",
       "    </tr>\n",
       "    <tr>\n",
       "      <th>1294</th>\n",
       "      <td>74</td>\n",
       "      <td>43</td>\n",
       "      <td>23</td>\n",
       "      <td>25.952633</td>\n",
       "      <td>61.890822</td>\n",
       "      <td>6.325235</td>\n",
       "      <td>99.579812</td>\n",
       "    </tr>\n",
       "    <tr>\n",
       "      <th>860</th>\n",
       "      <td>31</td>\n",
       "      <td>55</td>\n",
       "      <td>22</td>\n",
       "      <td>22.913502</td>\n",
       "      <td>21.339531</td>\n",
       "      <td>5.873172</td>\n",
       "      <td>109.225556</td>\n",
       "    </tr>\n",
       "  </tbody>\n",
       "</table>\n",
       "<p>2080 rows × 7 columns</p>\n",
       "</div>"
      ],
      "text/plain": [
       "        N    P    K  temperature   humidity        ph    rainfall\n",
       "582    34  133  202    15.314135  80.097114  5.804799   74.821447\n",
       "48    118   50   19    22.956041  82.337337  6.360812   66.483393\n",
       "1772   32  129  201    16.362519  83.004716  6.487546   71.556655\n",
       "964    97    8   52    24.910323  86.971900  6.237862   49.485757\n",
       "2213   80   30   25    26.240922  65.643814  7.487267  148.377120\n",
       "...   ...  ...  ...          ...        ...       ...         ...\n",
       "1638   34   76   80    20.656918  15.845726  7.985417   65.238111\n",
       "1095   67   55   44    26.284017  75.146402  7.251847  182.268545\n",
       "1130  114   40   17    24.326305  80.134564  6.363406   69.450721\n",
       "1294   74   43   23    25.952633  61.890822  6.325235   99.579812\n",
       "860    31   55   22    22.913502  21.339531  5.873172  109.225556\n",
       "\n",
       "[2080 rows x 7 columns]"
      ]
     },
     "execution_count": 139,
     "metadata": {},
     "output_type": "execute_result"
    }
   ],
   "source": [
    "X_train"
   ]
  },
  {
   "cell_type": "markdown",
   "id": "ab13cdf8",
   "metadata": {},
   "source": [
    "\n",
    "# Scale the features using MinMaxScaler"
   ]
  },
  {
   "cell_type": "code",
   "execution_count": 140,
   "id": "f19981a7",
   "metadata": {},
   "outputs": [],
   "source": [
    "from sklearn.preprocessing import MinMaxScaler\n",
    "ms = MinMaxScaler()\n",
    "\n",
    "X_train = ms.fit_transform(X_train)\n",
    "X_test = ms.transform(X_test)"
   ]
  },
  {
   "cell_type": "code",
   "execution_count": 141,
   "id": "9f0bc8c8-6ca0-4640-9db9-1a35a4dce347",
   "metadata": {},
   "outputs": [],
   "source": [
    "from sklearn.preprocessing import StandardScaler\n",
    "sc = StandardScaler()\n",
    "\n",
    "X_train = sc.fit_transform(X_train)\n",
    "X_test = sc.transform(X_test)"
   ]
  },
  {
   "cell_type": "code",
   "execution_count": 142,
   "id": "f3f50c64",
   "metadata": {},
   "outputs": [
    {
     "data": {
      "text/plain": [
       "array([[-3.60591950e-01,  2.35652831e+00,  3.00085545e+00, ...,\n",
       "         4.86609438e-01, -8.16679695e-01, -5.71825980e-01],\n",
       "       [ 1.99976417e+00, -1.50796782e-01, -5.87974498e-01, ...,\n",
       "         5.74321648e-01, -1.08107345e-01, -7.31911948e-01],\n",
       "       [-4.16790905e-01,  2.23569337e+00,  2.98124435e+00, ...,\n",
       "         6.00451780e-01,  5.34002276e-02, -6.34508156e-01],\n",
       "       ...,\n",
       "       [ 1.88736626e+00, -4.52884143e-01, -6.27196683e-01, ...,\n",
       "         4.88075727e-01, -1.04801761e-01, -6.74940918e-01],\n",
       "       [ 7.63387153e-01, -3.62257935e-01, -5.09530128e-01, ...,\n",
       "        -2.26227798e-01, -1.53446074e-01, -9.64791985e-02],\n",
       "       [-4.44890382e-01,  2.46898324e-04, -5.29141220e-01, ...,\n",
       "        -1.81394647e+00, -7.29546778e-01,  8.87136943e-02]])"
      ]
     },
     "execution_count": 142,
     "metadata": {},
     "output_type": "execute_result"
    }
   ],
   "source": [
    "X_train"
   ]
  },
  {
   "cell_type": "markdown",
   "id": "752a08ae",
   "metadata": {},
   "source": [
    "# Training Models"
   ]
  },
  {
   "cell_type": "code",
   "execution_count": 143,
   "id": "bd60a00f-b1ce-4b80-b028-9011e8035a2f",
   "metadata": {},
   "outputs": [
    {
     "name": "stdout",
     "output_type": "stream",
     "text": [
      "Logistic Regression       Accuracy: 0.7692\n",
      "Naive Bayes               Accuracy: 0.8135\n",
      "Support Vector Machine    Accuracy: 0.8135\n",
      "K-Nearest Neighbors       Accuracy: 0.7769\n",
      "Decision Tree             Accuracy: 0.7019\n",
      "Random Forest             Accuracy: 0.7212\n",
      "Bagging                   Accuracy: 0.7115\n"
     ]
    },
    {
     "name": "stderr",
     "output_type": "stream",
     "text": [
      "F:\\blender\\Lib\\site-packages\\sklearn\\ensemble\\_weight_boosting.py:527: FutureWarning: The SAMME.R algorithm (the default) is deprecated and will be removed in 1.6. Use the SAMME algorithm to circumvent this warning.\n",
      "  warnings.warn(\n"
     ]
    },
    {
     "name": "stdout",
     "output_type": "stream",
     "text": [
      "AdaBoost                  Accuracy: 0.0904\n",
      "Gradient Boosting         Accuracy: 0.7135\n",
      "Extra Trees               Accuracy: 0.6327\n"
     ]
    },
    {
     "name": "stderr",
     "output_type": "stream",
     "text": [
      "C:\\Users\\Hp\\AppData\\Local\\Temp\\ipykernel_19336\\201979834.py:42: FutureWarning: \n",
      "\n",
      "Passing `palette` without assigning `hue` is deprecated and will be removed in v0.14.0. Assign the `y` variable to `hue` and set `legend=False` for the same effect.\n",
      "\n",
      "  ax = sns.barplot(\n"
     ]
    },
    {
     "data": {
      "image/png": "[encoded data removed]",
      "text/plain": [
       "<Figure size 1200x700 with 1 Axes>"
      ]
     },
     "metadata": {},
     "output_type": "display_data"
    }
   ],
   "source": [
    "import matplotlib.pyplot as plt\n",
    "import seaborn as sns\n",
    "from sklearn.linear_model import LogisticRegression\n",
    "from sklearn.naive_bayes import GaussianNB\n",
    "from sklearn.svm import SVC\n",
    "from sklearn.neighbors import KNeighborsClassifier\n",
    "from sklearn.tree import DecisionTreeClassifier, ExtraTreeClassifier\n",
    "from sklearn.ensemble import RandomForestClassifier, BaggingClassifier, GradientBoostingClassifier, AdaBoostClassifier\n",
    "from sklearn.metrics import accuracy_score\n",
    "import pandas as pd\n",
    "\n",
    "# Define the models\n",
    "models = {\n",
    "    'Logistic Regression': LogisticRegression(max_iter=1000),\n",
    "    'Naive Bayes': GaussianNB(),\n",
    "    'Support Vector Machine': SVC(),\n",
    "    'K-Nearest Neighbors': KNeighborsClassifier(),\n",
    "    'Decision Tree': DecisionTreeClassifier(),\n",
    "    'Random Forest': RandomForestClassifier(),\n",
    "    'Bagging': BaggingClassifier(),\n",
    "    'AdaBoost': AdaBoostClassifier(),\n",
    "    'Gradient Boosting': GradientBoostingClassifier(),\n",
    "    'Extra Trees': ExtraTreeClassifier(),\n",
    "}\n",
    "\n",
    "# Store results\n",
    "results = []\n",
    "\n",
    "for name, model in models.items():\n",
    "    model.fit(X_train, y_train)\n",
    "    y_pred = model.predict(X_test)\n",
    "    acc = accuracy_score(y_test, y_pred)\n",
    "    results.append({'Model': name, 'Accuracy': acc})\n",
    "    print(f\"{name:<25} Accuracy: {acc:.4f}\")\n",
    "\n",
    "# Create DataFrame for plotting\n",
    "results_df = pd.DataFrame(results).sort_values(by='Accuracy', ascending=True)\n",
    "\n",
    "# Plot settings\n",
    "sns.set(style=\"whitegrid\")\n",
    "plt.figure(figsize=(12, 7))\n",
    "ax = sns.barplot(\n",
    "    data=results_df,\n",
    "    x=\"Accuracy\",\n",
    "    y=\"Model\",\n",
    "    palette=\"viridis\"\n",
    ")\n",
    "\n",
    "# Annotate accuracy values on bars\n",
    "for i in ax.patches:\n",
    "    ax.text(\n",
    "        i.get_width() + 0.01,\n",
    "        i.get_y() + i.get_height() / 2,\n",
    "        f\"{i.get_width():.2%}\",\n",
    "        va='center',\n",
    "        fontsize=10\n",
    "    )\n",
    "\n",
    "plt.title(\"Classification Model Accuracy Comparison\", fontsize=16)\n",
    "plt.xlabel(\"Accuracy\", fontsize=12)\n",
    "plt.ylabel(\"Model\", fontsize=12)\n",
    "plt.xlim(0, 1)\n",
    "plt.tight_layout()\n",
    "plt.show()\n"
   ]
  },
  {
   "cell_type": "code",
   "execution_count": 144,
   "id": "3e72d7f1",
   "metadata": {},
   "outputs": [
    {
     "data": {
      "text/plain": [
       "0.8134615384615385"
      ]
     },
     "execution_count": 144,
     "metadata": {},
     "output_type": "execute_result"
    }
   ],
   "source": [
    "# or gausianjb\n",
    "grd = GaussianNB()\n",
    "grd.fit(X_train,y_train)\n",
    "ypred = grd.predict(X_test)\n",
    "accuracy_score(y_test,ypred)"
   ]
  },
  {
   "cell_type": "markdown",
   "id": "859d9922",
   "metadata": {},
   "source": [
    "# Predictive System"
   ]
  },
  {
   "cell_type": "code",
   "execution_count": 145,
   "id": "17f3a3fe",
   "metadata": {},
   "outputs": [],
   "source": [
    "def recommendation(N, P, k, temperature, humidity, ph, rainfall):\n",
    "    # Prepare features as a 2D array\n",
    "    features = np.array([[N, P, k, temperature, humidity, ph, rainfall]])\n",
    "    \n",
    "    # ✅ Use transform instead of fit_transform to keep scaling consistent\n",
    "    ms_features = ms.transform(features)\n",
    "    sc_ms_features = sc.transform(ms_features)\n",
    "    \n",
    "    # ✅ No need to reshape prediction\n",
    "    prediction = grd.predict(sc_ms_features)\n",
    "    \n",
    "    print(prediction)\n",
    "    return prediction[0]\n"
   ]
  },
  {
   "cell_type": "code",
   "execution_count": 146,
   "id": "7568358d-2d1b-421e-b25b-2f55ac085915",
   "metadata": {},
   "outputs": [
    {
     "data": {
      "text/html": [
       "<div>\n",
       "<style scoped>\n",
       "    .dataframe tbody tr th:only-of-type {\n",
       "        vertical-align: middle;\n",
       "    }\n",
       "\n",
       "    .dataframe tbody tr th {\n",
       "        vertical-align: top;\n",
       "    }\n",
       "\n",
       "    .dataframe thead th {\n",
       "        text-align: right;\n",
       "    }\n",
       "</style>\n",
       "<table border=\"1\" class=\"dataframe\">\n",
       "  <thead>\n",
       "    <tr style=\"text-align: right;\">\n",
       "      <th></th>\n",
       "      <th>N</th>\n",
       "      <th>P</th>\n",
       "      <th>K</th>\n",
       "      <th>temperature</th>\n",
       "      <th>humidity</th>\n",
       "      <th>ph</th>\n",
       "      <th>rainfall</th>\n",
       "      <th>crop_num</th>\n",
       "    </tr>\n",
       "  </thead>\n",
       "  <tbody>\n",
       "    <tr>\n",
       "      <th>0</th>\n",
       "      <td>14</td>\n",
       "      <td>140</td>\n",
       "      <td>197</td>\n",
       "      <td>23.352251</td>\n",
       "      <td>90.900547</td>\n",
       "      <td>6.071255</td>\n",
       "      <td>113.038138</td>\n",
       "      <td>16</td>\n",
       "    </tr>\n",
       "    <tr>\n",
       "      <th>1</th>\n",
       "      <td>67</td>\n",
       "      <td>35</td>\n",
       "      <td>22</td>\n",
       "      <td>23.305468</td>\n",
       "      <td>63.246480</td>\n",
       "      <td>6.385684</td>\n",
       "      <td>108.760300</td>\n",
       "      <td>2</td>\n",
       "    </tr>\n",
       "    <tr>\n",
       "      <th>2</th>\n",
       "      <td>54</td>\n",
       "      <td>61</td>\n",
       "      <td>77</td>\n",
       "      <td>18.811981</td>\n",
       "      <td>15.216182</td>\n",
       "      <td>6.206582</td>\n",
       "      <td>77.542942</td>\n",
       "      <td>3</td>\n",
       "    </tr>\n",
       "    <tr>\n",
       "      <th>3</th>\n",
       "      <td>86</td>\n",
       "      <td>26</td>\n",
       "      <td>27</td>\n",
       "      <td>27.131404</td>\n",
       "      <td>52.893683</td>\n",
       "      <td>6.081173</td>\n",
       "      <td>192.428038</td>\n",
       "      <td>22</td>\n",
       "    </tr>\n",
       "    <tr>\n",
       "      <th>4</th>\n",
       "      <td>1</td>\n",
       "      <td>135</td>\n",
       "      <td>203</td>\n",
       "      <td>22.778565</td>\n",
       "      <td>92.701240</td>\n",
       "      <td>5.624203</td>\n",
       "      <td>113.775922</td>\n",
       "      <td>16</td>\n",
       "    </tr>\n",
       "  </tbody>\n",
       "</table>\n",
       "</div>"
      ],
      "text/plain": [
       "    N    P    K  temperature   humidity        ph    rainfall  crop_num\n",
       "0  14  140  197    23.352251  90.900547  6.071255  113.038138        16\n",
       "1  67   35   22    23.305468  63.246480  6.385684  108.760300         2\n",
       "2  54   61   77    18.811981  15.216182  6.206582   77.542942         3\n",
       "3  86   26   27    27.131404  52.893683  6.081173  192.428038        22\n",
       "4   1  135  203    22.778565  92.701240  5.624203  113.775922        16"
      ]
     },
     "execution_count": 146,
     "metadata": {},
     "output_type": "execute_result"
    }
   ],
   "source": [
    "crop.head()"
   ]
  },
  {
   "cell_type": "code",
   "execution_count": 147,
   "id": "64ffd9d3",
   "metadata": {},
   "outputs": [
    {
     "name": "stdout",
     "output_type": "stream",
     "text": [
      "[19]\n"
     ]
    },
    {
     "name": "stderr",
     "output_type": "stream",
     "text": [
      "F:\\blender\\Lib\\site-packages\\sklearn\\base.py:493: UserWarning: X does not have valid feature names, but MinMaxScaler was fitted with feature names\n",
      "  warnings.warn(\n"
     ]
    }
   ],
   "source": [
    "# new inputs\n",
    "\n",
    "\n",
    "N = 0\n",
    "P = 10\n",
    "k = 20\n",
    "temperature = 26.49109\n",
    "humidity = 81.604873\n",
    "ph = 7.038096\n",
    "rainfall = 202.935536\n",
    "\n",
    "predict = recommendation(N,P,k,temperature,humidity,ph,rainfall)\n"
   ]
  },
  {
   "cell_type": "code",
   "execution_count": 148,
   "id": "2ea8ffda",
   "metadata": {},
   "outputs": [
    {
     "name": "stdout",
     "output_type": "stream",
     "text": [
      "[2]\n"
     ]
    },
    {
     "name": "stderr",
     "output_type": "stream",
     "text": [
      "F:\\blender\\Lib\\site-packages\\sklearn\\base.py:493: UserWarning: X does not have valid feature names, but MinMaxScaler was fitted with feature names\n",
      "  warnings.warn(\n"
     ]
    },
    {
     "data": {
      "text/plain": [
       "2"
      ]
     },
     "execution_count": 148,
     "metadata": {},
     "output_type": "execute_result"
    }
   ],
   "source": [
    "# new inputs 2\n",
    "\n",
    "\n",
    "N = 100\n",
    "P = 50\n",
    "k = 20\n",
    "temperature = 32.0\n",
    "humidity = 70.0\n",
    "ph = 6\n",
    "rainfall = 110.0\n",
    "\n",
    "predict = recommendation(N,P,k,temperature,humidity,ph,rainfall)\n",
    "\n",
    "predict"
   ]
  },
  {
   "cell_type": "code",
   "execution_count": 149,
   "id": "fa3d3b8c",
   "metadata": {},
   "outputs": [],
   "source": [
    "import pickle\n",
    "pickle.dump(grd,open('model.pkl','wb'))\n",
    "pickle.dump(ms,open('minmaxscaler.pkl','wb'))\n",
    "pickle.dump(sc,open('standardscaler.pkl','wb'))"
   ]
  },
  {
   "cell_type": "code",
   "execution_count": 150,
   "id": "a55a48a3",
   "metadata": {},
   "outputs": [
    {
     "name": "stdout",
     "output_type": "stream",
     "text": [
      "[20]\n"
     ]
    },
    {
     "name": "stderr",
     "output_type": "stream",
     "text": [
      "F:\\blender\\Lib\\site-packages\\sklearn\\base.py:493: UserWarning: X does not have valid feature names, but MinMaxScaler was fitted with feature names\n",
      "  warnings.warn(\n"
     ]
    },
    {
     "data": {
      "text/plain": [
       "20"
      ]
     },
     "execution_count": 150,
     "metadata": {},
     "output_type": "execute_result"
    }
   ],
   "source": [
    "# new inputs 2\n",
    "\n",
    "\n",
    "N = 107\n",
    "P = 58\n",
    "K = 15\n",
    "temperature = 23.73\n",
    "humidity = 75.77\n",
    "ph = 7.55\n",
    "rainfall = 76.63\n",
    "predict = recommendation(N,P,k,temperature,humidity,ph,rainfall)\n",
    "\n",
    "predict"
   ]
  },
  {
   "cell_type": "code",
   "execution_count": null,
   "id": "960bd4f4-751e-4270-a859-a42fab96ce1a",
   "metadata": {},
   "outputs": [],
   "source": []
  }
 ],
 "metadata": {
  "kernelspec": {
   "display_name": "Python 3 (ipykernel)",
   "language": "python",
   "name": "python3"
  },
  "language_info": {
   "codemirror_mode": {
    "name": "ipython",
    "version": 3
   },
   "file_extension": ".py",
   "mimetype": "text/x-python",
   "name": "python",
   "nbconvert_exporter": "python",
   "pygments_lexer": "ipython3",
   "version": "3.12.7"
  }
 },
 "nbformat": 4,
 "nbformat_minor": 5
}
